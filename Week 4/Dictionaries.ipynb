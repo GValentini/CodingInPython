{
 "cells": [
  {
   "cell_type": "markdown",
   "metadata": {
    "slideshow": {
     "slide_type": "slide"
    }
   },
   "source": [
    "# Dictionaries"
   ]
  },
  {
   "cell_type": "markdown",
   "metadata": {
    "slideshow": {
     "slide_type": "fragment"
    }
   },
   "source": [
    "The final major **data structure** we'll teach you in this class is called a Python **dictionary**. Essentially, a dictionary acts as a \"lookup table\" -- just like a real life dictionary. If you're wondering what a definition of a particular word is (pretend this is 20ish years ago, before Google), you open up a dictionary starting around where you expect that word to be alphabetically, and flip the pages forwards or backwards until you find it. The definition is listed right next to that word."
   ]
  },
  {
   "cell_type": "markdown",
   "metadata": {
    "slideshow": {
     "slide_type": "slide"
    }
   },
   "source": [
    "Let's start with an example that hopefully illustrates how a dictionary can be useful in programming. Pretend you have a data file of occurences that lists the location and country of a particular species. It looks something like this:\n",
    "\n",
    "| occurenceID | locality | country |\n",
    "|-------------|----------------|--------------------------|\n",
    "| ABC001 | Washington, DC | United States of America |\n",
    "| ABC002 | Mexico City | Mexico |\n",
    "| ABC003 | New York City | USA |\n",
    "| ABC004 | Toronto | Canada |\n",
    "| ABC005 | Miami | USA |\n",
    "| ... | ... | ... |\n",
    "\n",
    "Through the magic of Python, you've parsed this file and now you have all of the values for the country column in a Python list."
   ]
  },
  {
   "cell_type": "code",
   "execution_count": null,
   "metadata": {
    "collapsed": true,
    "slideshow": {
     "slide_type": "fragment"
    }
   },
   "outputs": [],
   "source": [
    "countries = ['United States of America',\n",
    "            'Mexico',\n",
    "            'USA',\n",
    "            'Canada',\n",
    "            'USA']"
   ]
  },
  {
   "cell_type": "markdown",
   "metadata": {
    "slideshow": {
     "slide_type": "slide"
    }
   },
   "source": [
    "Now, knowing what we've covered so far in class, how would you answer the following question:\n",
    "\n",
    "*How many of these occurrences were in the USA?*"
   ]
  },
  {
   "cell_type": "code",
   "execution_count": null,
   "metadata": {
    "collapsed": false,
    "slideshow": {
     "slide_type": "subslide"
    }
   },
   "outputs": [],
   "source": [
    "usa_counter = 0\n",
    "for country in countries:\n",
    "    if country == 'United States of America':\n",
    "        usa_counter += 1\n",
    "    elif country == 'USA':\n",
    "        usa_counter += 1\n",
    "print(usa_counter)"
   ]
  },
  {
   "cell_type": "markdown",
   "metadata": {
    "slideshow": {
     "slide_type": "slide"
    }
   },
   "source": [
    "Ok, we were able to figure that one out, but now imagine that the list is actually much longer, and we see a mix of country codes and full country names for other countries too. We start to get to a point, but trying to handle this with *if* statements gets out of control.\n",
    "\n",
    "A big advantage of programming is to write code that we can use over and over again. Let's say we know that this organism only exists in North America, so let's create a **dictionary** that stores the code and full country name for the countries of North America. The codes on the left are called dictionary **keys**, and the full names on the right are called dictionary **values**."
   ]
  },
  {
   "cell_type": "code",
   "execution_count": null,
   "metadata": {
    "collapsed": true,
    "slideshow": {
     "slide_type": "fragment"
    }
   },
   "outputs": [],
   "source": [
    "country_codes = {'CAN': 'Canada',\n",
    "                 'MEX': 'Mexico',\n",
    "                 'USA': 'United States of America'}"
   ]
  },
  {
   "cell_type": "markdown",
   "metadata": {
    "slideshow": {
     "slide_type": "slide"
    }
   },
   "source": [
    "Now that we've created a Python dictionary, let's go through some of the things we can do with it."
   ]
  },
  {
   "cell_type": "markdown",
   "metadata": {
    "slideshow": {
     "slide_type": "fragment"
    }
   },
   "source": [
    "To access a value, we use a similar method as with lists, and put the key inside brackets."
   ]
  },
  {
   "cell_type": "code",
   "execution_count": null,
   "metadata": {
    "collapsed": false,
    "slideshow": {
     "slide_type": "fragment"
    }
   },
   "outputs": [],
   "source": [
    "print(country_codes['USA'])"
   ]
  },
  {
   "cell_type": "markdown",
   "metadata": {
    "slideshow": {
     "slide_type": "slide"
    }
   },
   "source": [
    "To add a new entry to a dictionary, just set a value equal to a new key. \n",
    "\n",
    "*If the key is already in the dictionary, the value will be overwritten.*"
   ]
  },
  {
   "cell_type": "code",
   "execution_count": null,
   "metadata": {
    "collapsed": false,
    "slideshow": {
     "slide_type": "fragment"
    }
   },
   "outputs": [],
   "source": [
    "country_codes['GTM'] = 'Guatemala'\n",
    "print(country_codes['GTM'])"
   ]
  },
  {
   "cell_type": "markdown",
   "metadata": {
    "slideshow": {
     "slide_type": "slide"
    }
   },
   "source": [
    "To combine dictionaries, we use the .update() method. Unfortunately, it's not as easy as dict1 + dict2."
   ]
  },
  {
   "cell_type": "code",
   "execution_count": null,
   "metadata": {
    "collapsed": false,
    "slideshow": {
     "slide_type": "fragment"
    }
   },
   "outputs": [],
   "source": [
    "more_country_codes = {'BLZ': 'Belize',\n",
    "                      'SLV': 'El Salvador',\n",
    "                      'HND': 'Honduras',\n",
    "                      'NIC': 'Nicaragua',\n",
    "                      'USA': 'United States of America'}\n",
    "country_codes.update(more_country_codes)\n",
    "print(country_codes)"
   ]
  },
  {
   "cell_type": "markdown",
   "metadata": {
    "slideshow": {
     "slide_type": "slide"
    }
   },
   "source": [
    "Running a for-loop on a dictionary by itself only gives you the key."
   ]
  },
  {
   "cell_type": "code",
   "execution_count": null,
   "metadata": {
    "collapsed": false,
    "slideshow": {
     "slide_type": "fragment"
    }
   },
   "outputs": [],
   "source": [
    "for code in country_codes:\n",
    "    print(code)"
   ]
  },
  {
   "cell_type": "markdown",
   "metadata": {
    "slideshow": {
     "slide_type": "slide"
    }
   },
   "source": [
    "To access both key and value of dictionary at the same time, you need to use items() method."
   ]
  },
  {
   "cell_type": "code",
   "execution_count": null,
   "metadata": {
    "collapsed": false,
    "slideshow": {
     "slide_type": "fragment"
    }
   },
   "outputs": [],
   "source": [
    "for key, value in country_codes.items():\n",
    "    print(key, value)"
   ]
  },
  {
   "cell_type": "markdown",
   "metadata": {
    "slideshow": {
     "slide_type": "slide"
    }
   },
   "source": [
    "Just like with lists, we can have *nested* dictionaries. Pretend that we also want to be able to handle 2-letter country codes as well, but we want to keep them separate."
   ]
  },
  {
   "cell_type": "code",
   "execution_count": null,
   "metadata": {
    "collapsed": false,
    "slideshow": {
     "slide_type": "fragment"
    }
   },
   "outputs": [],
   "source": [
    "two_letter_codes = {'BZ': 'Belize',\n",
    "                    'CN': 'Canada',\n",
    "                    'HN': 'Honduras',\n",
    "                    'MX': 'Mexico',\n",
    "                    'NI': 'Nicaragua',\n",
    "                    'US': 'United States of America',\n",
    "                    'SV': 'El Salvador',\n",
    "                    'GT': 'Guatemala'}"
   ]
  },
  {
   "cell_type": "code",
   "execution_count": null,
   "metadata": {
    "collapsed": true,
    "slideshow": {
     "slide_type": "fragment"
    }
   },
   "outputs": [],
   "source": [
    "country_lookup = {2: two_letter_codes,\n",
    "                  3: country_codes}"
   ]
  },
  {
   "cell_type": "code",
   "execution_count": null,
   "metadata": {
    "collapsed": false,
    "slideshow": {
     "slide_type": "fragment"
    }
   },
   "outputs": [],
   "source": [
    "import json\n",
    "print(json.dumps(country_lookup, indent=2, sort_keys=True))"
   ]
  },
  {
   "cell_type": "markdown",
   "metadata": {
    "slideshow": {
     "slide_type": "slide"
    }
   },
   "source": [
    "Now let's bring it all together in a final example. \n",
    "\n",
    "We now have a bigger list that contains full names, 3-letter codes, and 2-letter codes. Also, we don't just want to count the number of USA samples, but we want a count for each country that shows up."
   ]
  },
  {
   "cell_type": "code",
   "execution_count": null,
   "metadata": {
    "collapsed": false,
    "slideshow": {
     "slide_type": "fragment"
    }
   },
   "outputs": [],
   "source": [
    "country_list = ['MEX','United States of America', 'Mexico', 'US', 'Canada', 'USA', 'NIC',\n",
    "                'SV', 'El Salvador', 'CAN', 'GTM', 'Guatemala', 'BEL']"
   ]
  },
  {
   "cell_type": "markdown",
   "metadata": {
    "slideshow": {
     "slide_type": "slide"
    }
   },
   "source": [
    "Here's a quick skeleton of how we would handle this problem, but it contains some bugs. Let's try and work through those as a class..."
   ]
  },
  {
   "cell_type": "code",
   "execution_count": null,
   "metadata": {
    "collapsed": false,
    "slideshow": {
     "slide_type": "fragment"
    }
   },
   "outputs": [],
   "source": [
    "country_counter = {}\n",
    "for country in country_list:\n",
    "    if len(country) == 2:\n",
    "        country = country_lookup[2][country]\n",
    "    elif len(country) == 3:\n",
    "        country = country_lookup[3][country]\n",
    "    print(country)\n",
    "    country_counter[country] += 1\n",
    "        \n",
    "print(country_counter)"
   ]
  },
  {
   "cell_type": "code",
   "execution_count": null,
   "metadata": {
    "collapsed": true
   },
   "outputs": [],
   "source": []
  }
 ],
 "metadata": {
  "celltoolbar": "Slideshow",
  "kernelspec": {
   "display_name": "Python 3",
   "language": "python",
   "name": "python3"
  },
  "language_info": {
   "codemirror_mode": {
    "name": "ipython",
    "version": 3
   },
   "file_extension": ".py",
   "mimetype": "text/x-python",
   "name": "python",
   "nbconvert_exporter": "python",
   "pygments_lexer": "ipython3",
   "version": "3.5.1"
  }
 },
 "nbformat": 4,
 "nbformat_minor": 0
}
