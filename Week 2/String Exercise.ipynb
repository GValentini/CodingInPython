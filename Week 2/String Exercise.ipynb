{
 "cells": [
  {
   "cell_type": "markdown",
   "metadata": {},
   "source": [
    "# String Exercise"
   ]
  },
  {
   "cell_type": "markdown",
   "metadata": {},
   "source": [
    "![](https://pixabay.com/static/uploads/photo/2015/07/02/10/27/training-828764_960_720.jpg)"
   ]
  },
  {
   "cell_type": "markdown",
   "metadata": {
    "slideshow": {
     "slide_type": "slide"
    }
   },
   "source": [
    "We'll start out with a short DNA sequence as our example string.\n",
    "\n",
    "Don't try to copy the one here. Make your own sequence, but make sure you only use A, C, G, or T, and make sure it's capitalized."
   ]
  },
  {
   "cell_type": "code",
   "execution_count": 1,
   "metadata": {
    "collapsed": true,
    "slideshow": {
     "slide_type": "subslide"
    }
   },
   "outputs": [],
   "source": [
    "dna = 'ACTAGCTACGCTCGATACGCATCG'"
   ]
  },
  {
   "cell_type": "markdown",
   "metadata": {},
   "source": [
    "Let's check out the type of this variable, just to be sure."
   ]
  },
  {
   "cell_type": "code",
   "execution_count": 2,
   "metadata": {
    "collapsed": false
   },
   "outputs": [
    {
     "name": "stdout",
     "output_type": "stream",
     "text": [
      "<class 'str'>\n"
     ]
    }
   ],
   "source": [
    "print(type(dna))"
   ]
  },
  {
   "cell_type": "markdown",
   "metadata": {},
   "source": [
    "Now let's try running another **function** on the variable. Here's a good example of something that computers are good at: counting."
   ]
  },
  {
   "cell_type": "code",
   "execution_count": 3,
   "metadata": {
    "collapsed": false
   },
   "outputs": [
    {
     "name": "stdout",
     "output_type": "stream",
     "text": [
      "24\n"
     ]
    }
   ],
   "source": [
    "print(len(dna))"
   ]
  },
  {
   "cell_type": "markdown",
   "metadata": {},
   "source": [
    "Now let's see what kinds of different ways we can change this string.\n",
    "The first one we'll try is to convert it to lowercase. We'll use the lower() **method**. Notice how this **method** is different than **functions** that we've used previously."
   ]
  },
  {
   "cell_type": "code",
   "execution_count": 4,
   "metadata": {
    "collapsed": false
   },
   "outputs": [
    {
     "name": "stdout",
     "output_type": "stream",
     "text": [
      "actagctacgctcgatacgcatcg\n"
     ]
    }
   ],
   "source": [
    "print(dna.lower())"
   ]
  },
  {
   "cell_type": "markdown",
   "metadata": {},
   "source": [
    "Also, it's important to point out that the \"dna\" variable did not change by applying that method."
   ]
  },
  {
   "cell_type": "code",
   "execution_count": 5,
   "metadata": {
    "collapsed": false
   },
   "outputs": [
    {
     "name": "stdout",
     "output_type": "stream",
     "text": [
      "ACTAGCTACGCTCGATACGCATCG\n"
     ]
    }
   ],
   "source": [
    "print(dna)"
   ]
  },
  {
   "cell_type": "markdown",
   "metadata": {},
   "source": [
    "To truly change a string variable, you need to re-save those changes back to the same variable name."
   ]
  },
  {
   "cell_type": "code",
   "execution_count": 6,
   "metadata": {
    "collapsed": false
   },
   "outputs": [
    {
     "name": "stdout",
     "output_type": "stream",
     "text": [
      "actagctacgctcgatacgcatcg\n"
     ]
    }
   ],
   "source": [
    "dna = dna.lower()\n",
    "print(dna)"
   ]
  },
  {
   "cell_type": "markdown",
   "metadata": {},
   "source": [
    "Notice that the lower() method just used an empty parenthesis. We'll now use the replace() method to show how to pass **parameters** that tell the method what to do. To demonstrate this, we'll tell Python to replace the \"thymine\" bases with \"uracil\" to convert it to an rna sequence."
   ]
  },
  {
   "cell_type": "code",
   "execution_count": 7,
   "metadata": {
    "collapsed": false
   },
   "outputs": [
    {
     "name": "stdout",
     "output_type": "stream",
     "text": [
      "acuagcuacgcucgauacgcaucg\n"
     ]
    }
   ],
   "source": [
    "rna = dna.replace('t', 'u')\n",
    "print(rna)"
   ]
  },
  {
   "cell_type": "markdown",
   "metadata": {},
   "source": [
    "Another very useful action that Python can perform is called **slicing**. Say we realized that we only wanted to use the first 10 bases of the dna sequence for some analysis. We use **brackets[]** to do this, and then we tell Python where to start and where to end. It's important to note that **counting in Python starts with 0**."
   ]
  },
  {
   "cell_type": "code",
   "execution_count": 8,
   "metadata": {
    "collapsed": false
   },
   "outputs": [
    {
     "name": "stdout",
     "output_type": "stream",
     "text": [
      "actagctacg\n"
     ]
    }
   ],
   "source": [
    "print(dna[0:10])"
   ]
  },
  {
   "cell_type": "markdown",
   "metadata": {},
   "source": [
    "In fact, if we're just starting with the beginning of the string, we don't need to write out the 0."
   ]
  },
  {
   "cell_type": "code",
   "execution_count": 9,
   "metadata": {
    "collapsed": false
   },
   "outputs": [
    {
     "name": "stdout",
     "output_type": "stream",
     "text": [
      "actagctacg\n"
     ]
    }
   ],
   "source": [
    "print(dna[:10])"
   ]
  },
  {
   "cell_type": "markdown",
   "metadata": {},
   "source": [
    "Now, what if a colleague tells us about a 5-bp stretch that we were forgetting from our sequence? We can add that to our original sequence, using the **+ operator**. Remember from last class, that the \"+\" is used to add numbers, but it can add strings too?? This is an example of **operator overloading**, where an operator can be programmed to do different operations based on the type of object it's working with."
   ]
  },
  {
   "cell_type": "code",
   "execution_count": 10,
   "metadata": {
    "collapsed": false
   },
   "outputs": [
    {
     "name": "stdout",
     "output_type": "stream",
     "text": [
      "actagctacgctcgatacgcatcgagtca\n",
      "29\n"
     ]
    }
   ],
   "source": [
    "missing_stretch = 'agtca'\n",
    "dna = dna + missing_stretch\n",
    "print(dna)\n",
    "print(len(dna))"
   ]
  },
  {
   "cell_type": "markdown",
   "metadata": {},
   "source": [
    "Another example of operator overloading in strings is the *** operator**. The \\* will \"multiply\" a string howevery many times we tell it. Here we make this new sequence into a repeat."
   ]
  },
  {
   "cell_type": "code",
   "execution_count": 11,
   "metadata": {
    "collapsed": false
   },
   "outputs": [
    {
     "name": "stdout",
     "output_type": "stream",
     "text": [
      "actagctacgctcgatacgcatcgagtcaactagctacgctcgatacgcatcgagtca\n",
      "58\n"
     ]
    }
   ],
   "source": [
    "repeat_dna = dna * 2\n",
    "print(repeat_dna)\n",
    "print(len(repeat_dna))"
   ]
  },
  {
   "cell_type": "markdown",
   "metadata": {
    "collapsed": true
   },
   "source": [
    "# Conditionals"
   ]
  },
  {
   "cell_type": "markdown",
   "metadata": {},
   "source": [
    "Let's switch back to talking about our Week 1 homework assignment. In Paul's email, we learned that you have to convert the raw_input to an int for the addition to work correctly.\n",
    "\n",
    "Let's see what happens when we try to convert our *dna* variable to an int."
   ]
  },
  {
   "cell_type": "code",
   "execution_count": 12,
   "metadata": {
    "collapsed": false
   },
   "outputs": [
    {
     "ename": "ValueError",
     "evalue": "invalid literal for int() with base 10: 'actagctacgctcgatacgcatcgagtca'",
     "output_type": "error",
     "traceback": [
      "\u001b[1;31m---------------------------------------------------------------------------\u001b[0m",
      "\u001b[1;31mValueError\u001b[0m                                Traceback (most recent call last)",
      "\u001b[1;32m<ipython-input-12-3a6735f6a4be>\u001b[0m in \u001b[0;36m<module>\u001b[1;34m()\u001b[0m\n\u001b[1;32m----> 1\u001b[1;33m \u001b[0mprint\u001b[0m\u001b[1;33m(\u001b[0m\u001b[0mint\u001b[0m\u001b[1;33m(\u001b[0m\u001b[0mdna\u001b[0m\u001b[1;33m)\u001b[0m\u001b[1;33m)\u001b[0m\u001b[1;33m\u001b[0m\u001b[0m\n\u001b[0m",
      "\u001b[1;31mValueError\u001b[0m: invalid literal for int() with base 10: 'actagctacgctcgatacgcatcgagtca'"
     ]
    }
   ],
   "source": [
    "print(int(dna))"
   ]
  },
  {
   "cell_type": "markdown",
   "metadata": {},
   "source": [
    "Uh oh, that's not good. It looks like Python is choking when it tries to convert a string of DNA bases to an integer. \n",
    "\n",
    "We need a way to test if our raw_input (which by default is a string) is the type of a string that can be converted to an integer. Luckily, there is a string method that checks this for us."
   ]
  },
  {
   "cell_type": "code",
   "execution_count": 15,
   "metadata": {
    "collapsed": false
   },
   "outputs": [
    {
     "name": "stdout",
     "output_type": "stream",
     "text": [
      "False\n"
     ]
    }
   ],
   "source": [
    "print(dna.isnumeric())"
   ]
  },
  {
   "cell_type": "markdown",
   "metadata": {},
   "source": [
    "Let's test this on a test number string to make sure it's working like we think it should."
   ]
  },
  {
   "cell_type": "code",
   "execution_count": 16,
   "metadata": {
    "collapsed": false
   },
   "outputs": [
    {
     "name": "stdout",
     "output_type": "stream",
     "text": [
      "True\n"
     ]
    }
   ],
   "source": [
    "test_variable = \"42\"\n",
    "\n",
    "print(test_variable.isnumeric())"
   ]
  },
  {
   "cell_type": "markdown",
   "metadata": {},
   "source": [
    "Good. Now we're going to need to use Python **conditional** statements to actually use this new method."
   ]
  },
  {
   "cell_type": "code",
   "execution_count": 19,
   "metadata": {
    "collapsed": false
   },
   "outputs": [
    {
     "name": "stdout",
     "output_type": "stream",
     "text": [
      "84\n"
     ]
    }
   ],
   "source": [
    "if test_variable.isnumeric():\n",
    "    test_variable_int = int(test_variable)\n",
    "    print(test_variable_int + test_variable_int)"
   ]
  },
  {
   "cell_type": "markdown",
   "metadata": {},
   "source": [
    "But what if *test_variable* is not a numeric string?"
   ]
  },
  {
   "cell_type": "code",
   "execution_count": 20,
   "metadata": {
    "collapsed": true
   },
   "outputs": [],
   "source": [
    "test_variable = \"agtc\"\n",
    "if test_variable.isnumeric():\n",
    "    test_variable_int = int(test_variable)\n",
    "    print(test_variable_int + test_variable_int)"
   ]
  },
  {
   "cell_type": "markdown",
   "metadata": {},
   "source": [
    "Nothing happens. We need a way to let the user know that they didn't follow the rules. That's where **else** comes in."
   ]
  },
  {
   "cell_type": "code",
   "execution_count": 21,
   "metadata": {
    "collapsed": false
   },
   "outputs": [
    {
     "name": "stdout",
     "output_type": "stream",
     "text": [
      "You're input was not valid.\n"
     ]
    }
   ],
   "source": [
    "test_variable = \"agtc\"\n",
    "if test_variable.isnumeric():\n",
    "    test_variable_int = int(test_variable)\n",
    "    print(test_variable_int + test_variable_int)\n",
    "else:\n",
    "    print(\"You're input was not valid.\")"
   ]
  },
  {
   "cell_type": "markdown",
   "metadata": {},
   "source": [
    "Let's try it one more time, but let's see what happens when we use a decimal number as our *test_variable*."
   ]
  },
  {
   "cell_type": "code",
   "execution_count": 31,
   "metadata": {
    "collapsed": false
   },
   "outputs": [
    {
     "name": "stdout",
     "output_type": "stream",
     "text": [
      "You're input was not valid.\n"
     ]
    }
   ],
   "source": [
    "test_variable = \"4.2\"\n",
    "if test_variable.isnumeric():\n",
    "    test_variable_int = int(test_variable)\n",
    "    print(test_variable_int + test_variable_int)\n",
    "else:\n",
    "    print(\"Your input was not valid.\")"
   ]
  },
  {
   "cell_type": "markdown",
   "metadata": {},
   "source": [
    "That's weird. 4.2 definitely seems like it's numeric. \n",
    "\n",
    "However, if we look up the Python documentation for the is_numeric method, we see that it just checks that each character is a number. The decimal point messes that up."
   ]
  },
  {
   "cell_type": "code",
   "execution_count": null,
   "metadata": {
    "collapsed": true
   },
   "outputs": [],
   "source": []
  }
 ],
 "metadata": {
  "kernelspec": {
   "display_name": "Python 3",
   "language": "python",
   "name": "python3"
  },
  "language_info": {
   "codemirror_mode": {
    "name": "ipython",
    "version": 3
   },
   "file_extension": ".py",
   "mimetype": "text/x-python",
   "name": "python",
   "nbconvert_exporter": "python",
   "pygments_lexer": "ipython3",
   "version": "3.5.1"
  }
 },
 "nbformat": 4,
 "nbformat_minor": 0
}
